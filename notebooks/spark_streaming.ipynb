{
 "cells": [
  {
   "cell_type": "code",
   "execution_count": null,
   "id": "d3d3d1b0-31d6-4b91-bf2a-653e0cf9d381",
   "metadata": {
    "tags": []
   },
   "outputs": [],
   "source": [
    "import json\n",
    "import requests\n",
    "import os\n",
    "from dotenv import load_dotenv"
   ]
  },
  {
   "cell_type": "code",
   "execution_count": null,
   "id": "f2ed5876-539d-45c5-a8ce-e87c6dd8284b",
   "metadata": {},
   "outputs": [],
   "source": [
    "load_dotenv()"
   ]
  },
  {
   "cell_type": "code",
   "execution_count": null,
   "id": "086c0f59-9e49-4857-a898-27ce578fd1e6",
   "metadata": {},
   "outputs": [],
   "source": [
    "params = {\n",
    "    \"accept\": \"application/json\", \n",
    "    \"X-API-Token\": os.environ['API_TOKEN'],\n",
    "}"
   ]
  },
  {
   "cell_type": "code",
   "execution_count": null,
   "id": "956f4252-2f9f-4e0c-88c7-a18b426276bd",
   "metadata": {},
   "outputs": [],
   "source": [
    "symbol = 'BTC-USD'"
   ]
  },
  {
   "cell_type": "code",
   "execution_count": null,
   "id": "39063ba0-9f7d-4712-8206-cd6aea9f8633",
   "metadata": {},
   "outputs": [],
   "source": [
    "url = f\"https://api.blockchain.com/v3/exchange/l2/{symbol}\""
   ]
  },
  {
   "cell_type": "code",
   "execution_count": null,
   "id": "81529a8c-6515-412f-aa84-d85be530d5be",
   "metadata": {
    "scrolled": true,
    "tags": []
   },
   "outputs": [],
   "source": [
    "data = requests.get(url, params=params).json()"
   ]
  },
  {
   "cell_type": "code",
   "execution_count": null,
   "id": "2f034dd5-694c-47ef-a4d0-61f14cadb9cf",
   "metadata": {
    "scrolled": true,
    "tags": []
   },
   "outputs": [],
   "source": [
    "data"
   ]
  },
  {
   "cell_type": "code",
   "execution_count": null,
   "id": "39115f5d-d723-47c3-8a18-b2842dbd970f",
   "metadata": {},
   "outputs": [],
   "source": [
    "save_path = '../data/btc_stream/sample_schema.json'"
   ]
  },
  {
   "cell_type": "code",
   "execution_count": null,
   "id": "e545bf53-3a0d-42a7-8cc8-66c25f4c104a",
   "metadata": {},
   "outputs": [],
   "source": [
    "with open(save_path, 'w', encoding='utf-8') as f:\n",
    "    json.dump(data, f, ensure_ascii=False, indent=4)"
   ]
  },
  {
   "cell_type": "code",
   "execution_count": null,
   "id": "db836dde-2e50-41f3-b4a9-5722255aab08",
   "metadata": {},
   "outputs": [],
   "source": [
    "spark.read.parquet('../data/btc_stream/trusted/bids').limit(5).toPandas()"
   ]
  },
  {
   "cell_type": "code",
   "execution_count": null,
   "id": "04d907f0-8c33-4514-a9e2-3237bfbc3839",
   "metadata": {},
   "outputs": [],
   "source": [
    "spark.read.parquet('../data/btc_stream/trusted/asks').limit(5).toPandas()"
   ]
  }
 ],
 "metadata": {
  "kernelspec": {
   "display_name": "Python 3",
   "language": "python",
   "name": "python3"
  },
  "language_info": {
   "codemirror_mode": {
    "name": "ipython",
    "version": 3
   },
   "file_extension": ".py",
   "mimetype": "text/x-python",
   "name": "python",
   "nbconvert_exporter": "python",
   "pygments_lexer": "ipython3",
   "version": "3.8.8"
  }
 },
 "nbformat": 4,
 "nbformat_minor": 5
}
